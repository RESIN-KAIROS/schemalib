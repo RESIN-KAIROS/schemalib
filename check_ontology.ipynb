{
 "cells": [
  {
   "cell_type": "code",
   "execution_count": 6,
   "metadata": {},
   "outputs": [],
   "source": [
    "import os \n",
    "import json \n",
    "import re "
   ]
  },
  {
   "cell_type": "code",
   "execution_count": 8,
   "metadata": {},
   "outputs": [],
   "source": [
    "ID_RE = re.compile(r'resin:((Events)|(Participants))\\/(\\d{5})\\/')"
   ]
  },
  {
   "cell_type": "code",
   "execution_count": 2,
   "metadata": {},
   "outputs": [],
   "source": [
    "# making quick changes to old schemas \n",
    "schema_dir = 'phase2b/old_scenarios'"
   ]
  },
  {
   "cell_type": "code",
   "execution_count": 11,
   "metadata": {},
   "outputs": [],
   "source": [
    "with open(os.path.join(schema_dir, 'disease_outbreak.json'),'r') as f:\n",
    "    schema = json.load(f)"
   ]
  },
  {
   "cell_type": "code",
   "execution_count": 12,
   "metadata": {},
   "outputs": [
    {
     "data": {
      "text/plain": [
       "dict_keys(['@id', 'sdfVersion', 'version', 'events'])"
      ]
     },
     "execution_count": 12,
     "metadata": {},
     "output_type": "execute_result"
    }
   ],
   "source": [
    "schema.keys() "
   ]
  },
  {
   "cell_type": "code",
   "execution_count": 20,
   "metadata": {},
   "outputs": [],
   "source": [
    "!mkdir phase2b/old_scenarios_updated"
   ]
  },
  {
   "cell_type": "code",
   "execution_count": 21,
   "metadata": {},
   "outputs": [],
   "source": [
    "for schemafile in os.listdir(schema_dir):\n",
    "    with open(os.path.join(schema_dir, schemafile),'r') as f:\n",
    "        schema = json.load(f)\n",
    "    for e in schema['events']:\n",
    "        m = re.match(ID_RE, e['@id'])\n",
    "        if not m: raise ValueError\n",
    "        e['@id'] = m.group(0) \n",
    "        e['modality'] = []\n",
    "        if 'children' in e:\n",
    "            e['children'] = [re.match(ID_RE, cid).group(0) for cid in e['children']]\n",
    "        if 'participants' in e:\n",
    "            for p in e['participants']:\n",
    "                p['@id'] = re.match(ID_RE, p['@id']).group(0)\n",
    "        if 'outlinks' in e:\n",
    "             e['outlinks'] = [re.match(ID_RE, cid).group(0) for cid in e['outlinks']]\n",
    "\n",
    "    with open(os.path.join('phase2b/old_scenarios_updated/', schemafile), 'w') as writer:\n",
    "        json.dump(schema, writer, indent=2) \n",
    "    \n",
    "        \n",
    "            "
   ]
  },
  {
   "cell_type": "code",
   "execution_count": 13,
   "metadata": {},
   "outputs": [],
   "source": []
  },
  {
   "cell_type": "code",
   "execution_count": 16,
   "metadata": {},
   "outputs": [
    {
     "data": {
      "text/plain": [
       "{'@id': 'resin:Relations/30000/',\n",
       " 'name': 'proximity',\n",
       " 'relationSubject': 'resin:Entities/00000/',\n",
       " 'relationObject': 'resin:Entities/00013/',\n",
       " 'wd_node': 'wd:Q19267375',\n",
       " 'wd_description': 'state of being near as in space, time, or relationship',\n",
       " 'wd_label': 'proximity'}"
      ]
     },
     "execution_count": 16,
     "metadata": {},
     "output_type": "execute_result"
    }
   ],
   "source": [
    "schema['events'][0]['relations'][0]"
   ]
  },
  {
   "cell_type": "code",
   "execution_count": 14,
   "metadata": {},
   "outputs": [
    {
     "data": {
      "text/plain": [
       "{'@id': 'resin:Events/10000/',\n",
       " 'children': ['resin:Events/10001/',\n",
       "  'resin:Events/10002/',\n",
       "  'resin:Events/10003/',\n",
       "  'resin:Events/10005/',\n",
       "  'resin:Events/10006/',\n",
       "  'resin:Events/10007/',\n",
       "  'resin:Events/10004/',\n",
       "  'resin:Events/10009/'],\n",
       " 'children_gate': 'or',\n",
       " 'description': 'Root node for disease outbreak schema.',\n",
       " 'name': 'Disease Outbreak with Hierarchy',\n",
       " 'participants': [{'@id': 'resin:Participants/20000/',\n",
       "   'roleName': 'A2-GOL_location_victims',\n",
       "   'entity': 'resin:Entities/00000/'}],\n",
       " 'repeatable': False,\n",
       " 'wd_node': 'wd:Q3241045',\n",
       " 'wd_label': 'disease outbreak',\n",
       " 'wd_description': 'sudden increase in occurrences of a disease in a particular time and place',\n",
       " 'outlinks': [],\n",
       " 'entities': [{'@id': 'resin:Entities/00000/',\n",
       "   'name': 'initial person infected',\n",
       "   'wd_label': 'victim',\n",
       "   'wd_node': 'wd:Q1851760',\n",
       "   'wd_description': 'person who suffers as a result of a crime or other event'},\n",
       "  {'@id': 'resin:Entities/00001/',\n",
       "   'name': 'exposed people',\n",
       "   'wd_label': 'victim',\n",
       "   'wd_node': 'wd:Q1851760',\n",
       "   'wd_description': 'person who suffers as a result of a crime or other event'},\n",
       "  {'@id': 'resin:Entities/00002/',\n",
       "   'name': 'consumer, person in contact with the infectant',\n",
       "   'wd_label': 'person',\n",
       "   'wd_node': 'wd:Q215627',\n",
       "   'wd_description': 'being that has certain capacities or attributes constituting personhood'},\n",
       "  {'@id': 'resin:Entities/00003/',\n",
       "   'name': 'food',\n",
       "   'wd_label': 'food',\n",
       "   'wd_node': 'wd:Q2095',\n",
       "   'wd_description': 'any substance consumed to provide nutritional support for the body; form of energy stored in chemical'},\n",
       "  {'@id': 'resin:Entities/00005/',\n",
       "   'name': 'business',\n",
       "   'wd_label': 'business',\n",
       "   'wd_node': 'wd:Q4830453',\n",
       "   'wd_description': 'organization involved in commercial, industrial, or professional activity'},\n",
       "  {'@id': 'resin:Entities/00006/',\n",
       "   'name': 'infectant, carrier of disease',\n",
       "   'wd_label': ['pathogen', 'food', 'liquid'],\n",
       "   'wd_node': ['wd:Q170065', 'wd:Q2095', 'wd:Q11435']},\n",
       "  {'@id': 'resin:Entities/00007/',\n",
       "   'name': 'cause of disease',\n",
       "   'wd_label': 'pathogen',\n",
       "   'wd_node': 'wd:Q170065',\n",
       "   'wd_description': 'biological entity that causes disease in its host, which is typically an infectious microorganism or agent, such as a virus, bacterium, protozoan, prion, viroid, or fungus'},\n",
       "  {'@id': 'resin:Entities/00008/',\n",
       "   'name': 'mutated strain of pathogen',\n",
       "   'wd_label': 'pathogen',\n",
       "   'wd_node': 'wd:Q170065',\n",
       "   'wd_description': 'biological entity that causes disease in its host, which is typically an infectious microorganism or agent, such as a virus, bacterium, protozoan, prion, viroid, or fungus'},\n",
       "  {'@id': 'resin:Entities/00009/',\n",
       "   'name': 'plaintiff',\n",
       "   'wd_label': 'plaintiff',\n",
       "   'wd_node': 'wd:Q468489',\n",
       "   'wd_description': 'party which initiates a court case'},\n",
       "  {'@id': 'resin:Entities/00010/',\n",
       "   'name': 'defendant',\n",
       "   'wd_label': 'defendant',\n",
       "   'wd_node': 'wd:Q159394',\n",
       "   'wd_description': 'accused person'},\n",
       "  {'@id': 'resin:Entities/00013/',\n",
       "   'name': 'location / facility',\n",
       "   'wd_label': 'geographic location',\n",
       "   'wd_node': 'wd:Q2221906',\n",
       "   'wd_description': \"point or an area on the Earth's surface or elsewhere\"},\n",
       "  {'@id': 'resin:Entities/00014/',\n",
       "   'name': 'research facility',\n",
       "   'wd_label': 'geographic location',\n",
       "   'wd_node': 'wd:Q2221906',\n",
       "   'wd_description': \"point or an area on the Earth's surface or elsewhere\"},\n",
       "  {'@id': 'resin:Entities/00015/',\n",
       "   'name': 'government / authorities',\n",
       "   'wd_label': 'government agency',\n",
       "   'wd_node': 'wd:Q327333',\n",
       "   'wd_description': 'organization in the machinery of government responsible for specific functions'},\n",
       "  {'@id': 'resin:Entities/00016/',\n",
       "   'name': 'other government / authorities',\n",
       "   'wd_label': 'government agency',\n",
       "   'wd_node': 'wd:Q327333',\n",
       "   'wd_description': 'organization in the machinery of government responsible for specific functions'},\n",
       "  {'@id': 'resin:Entities/00017/',\n",
       "   'name': 'suspect of crime',\n",
       "   'wd_label': 'suspect',\n",
       "   'wd_node': 'wd:Q224952',\n",
       "   'wd_description': 'known person suspected of committing a crime'},\n",
       "  {'@id': 'resin:Entities/00018/',\n",
       "   'name': 'law enforcement agent',\n",
       "   'wd_label': 'law_enforcement_agency',\n",
       "   'wd_node': 'wd:Q732717',\n",
       "   'wd_description': 'government agency responsible for the enforcement of the laws'},\n",
       "  {'@id': 'resin:Entities/00019/',\n",
       "   'name': 'researcher',\n",
       "   'wd_label': 'scientist',\n",
       "   'wd_node': 'wd:Q901',\n",
       "   'wd_description': 'person who conducts scientific research into an area of interest'},\n",
       "  {'@id': 'resin:Entities/00020/',\n",
       "   'name': 'new treatment',\n",
       "   'wd_label': 'medical_procedure',\n",
       "   'wd_node': 'wd:Q796194',\n",
       "   'wd_description': 'process of medicine done to heal; course of action intended to achieve a result in the delivery of healthcare'},\n",
       "  {'@id': 'resin:Entities/00021/',\n",
       "   'name': 'vaccine',\n",
       "   'wd_label': 'vaccine',\n",
       "   'wd_node': 'wd:Q134808',\n",
       "   'wd_description': 'substance used to stimulate the production of antibodies and provide immunity against one or several diseases, prepared from the causative agent of a disease, its products, or a synthetic substitute'},\n",
       "  {'@id': 'resin:Entities/00022/',\n",
       "   'name': 'general population',\n",
       "   'wd_label': 'addressee',\n",
       "   'wd_node': 'wd:Q28008314',\n",
       "   'wd_description': 'person or organization to whom a information, letter or note is addressed'},\n",
       "  {'@id': 'resin:Entities/00023/',\n",
       "   'name': 'judicial system',\n",
       "   'wd_label': 'court',\n",
       "   'wd_node': 'wd:Q41487',\n",
       "   'wd_description': 'judicial institution with the authority to resolve legal disputes'},\n",
       "  {'@id': 'resin:Entities/00024/',\n",
       "   'name': 'medical team',\n",
       "   'wd_label': 'health_professional',\n",
       "   'wd_node': 'wd:Q11974939',\n",
       "   'wd_description': 'individual who systematically provides health care services'},\n",
       "  {'@id': 'resin:Entities/00025/',\n",
       "   'name': 'source of disease',\n",
       "   'wd_label': 'facility',\n",
       "   'wd_node': 'wd:Q13226383',\n",
       "   'wd_description': 'place for doing something'},\n",
       "  {'@id': 'resin:Entities/00026/',\n",
       "   'name': 'disease prevention measures and guidelines',\n",
       "   'wd_label': 'law',\n",
       "   'wd_node': 'wd:Q7748',\n",
       "   'wd_description': 'system of rules and guidelines, generally backed by governmental authority'}],\n",
       " 'relations': [{'@id': 'resin:Relations/30000/',\n",
       "   'name': 'proximity',\n",
       "   'relationSubject': 'resin:Entities/00000/',\n",
       "   'relationObject': 'resin:Entities/00013/',\n",
       "   'wd_node': 'wd:Q19267375',\n",
       "   'wd_description': 'state of being near as in space, time, or relationship',\n",
       "   'wd_label': 'proximity'},\n",
       "  {'@id': 'resin:Relations/30001/',\n",
       "   'name': 'proximity',\n",
       "   'relationSubject': 'resin:Entities/00000/',\n",
       "   'relationObject': 'resin:Entities/00013/',\n",
       "   'wd_node': 'wd:Q19267375',\n",
       "   'wd_description': 'state of being near as in space, time, or relationship',\n",
       "   'wd_label': 'proximity'},\n",
       "  {'@id': 'resin:Relations/30002/',\n",
       "   'name': 'partially coincident with',\n",
       "   'relationSubject': 'resin:Entities/00009/',\n",
       "   'relationObject': 'resin:Entities/00000/',\n",
       "   'wd_node': 'wd:P1382',\n",
       "   'wd_description': 'object that partially overlaps with the subject in its instances, parts, or members',\n",
       "   'wd_label': 'partially coincident with'},\n",
       "  {'@id': 'resin:Relations/30003/',\n",
       "   'name': 'partially coincident with',\n",
       "   'relationSubject': 'resin:Entities/00010/',\n",
       "   'relationObject': 'resin:Entities/00005/',\n",
       "   'wd_node': 'wd:P1382',\n",
       "   'wd_description': 'object that partially overlaps with the subject in its instances, parts, or members',\n",
       "   'wd_label': 'partially coincident with'},\n",
       "  {'@id': 'resin:Relations/30004/',\n",
       "   'name': 'partially coincident with',\n",
       "   'relationSubject': 'resin:Entities/00000/',\n",
       "   'relationObject': 'resin:Entities/00002/',\n",
       "   'wd_node': 'wd:P1382',\n",
       "   'wd_description': 'object that partially overlaps with the subject in its instances, parts, or members',\n",
       "   'wd_label': 'partially coincident with'},\n",
       "  {'@id': 'resin:Relations/30005/',\n",
       "   'name': 'partially coincident with',\n",
       "   'relationSubject': 'resin:Entities/00017/',\n",
       "   'relationObject': 'resin:Entities/00010/',\n",
       "   'wd_node': 'wd:P1382',\n",
       "   'wd_description': 'object that partially overlaps with the subject in its instances, parts, or members',\n",
       "   'wd_label': 'partially coincident with'},\n",
       "  {'@id': 'resin:Relations/30006/',\n",
       "   'name': 'partially coincident with',\n",
       "   'relationSubject': 'resin:Entities/00020/',\n",
       "   'relationObject': 'resin:Entities/00021/',\n",
       "   'wd_node': 'wd:P1382',\n",
       "   'wd_description': 'object that partially overlaps with the subject in its instances, parts, or members',\n",
       "   'wd_label': 'partially coincident with'},\n",
       "  {'@id': 'resin:Relations/30007/',\n",
       "   'name': 'instance of',\n",
       "   'relationSubject': 'resin:Entities/00026/',\n",
       "   'relationObject': 'resin:Entities/00015/',\n",
       "   'wd_node': 'wd:Q21503252',\n",
       "   'wd_description': 'relation of type constraints',\n",
       "   'wd_label': 'instance of'}],\n",
       " 'isSchema': True,\n",
       " 'modality': []}"
      ]
     },
     "execution_count": 14,
     "metadata": {},
     "output_type": "execute_result"
    }
   ],
   "source": [
    "schema['events'][0]"
   ]
  },
  {
   "cell_type": "code",
   "execution_count": 2,
   "metadata": {},
   "outputs": [],
   "source": [
    "scenario = 'business_change'"
   ]
  },
  {
   "cell_type": "code",
   "execution_count": 3,
   "metadata": {},
   "outputs": [],
   "source": [
    "ontology_file = f'scenario-ontology/{scenario}_ontology.json'\n",
    "schema_file = f'scenario-schemas-verified/{scenario}.json'"
   ]
  },
  {
   "cell_type": "code",
   "execution_count": 4,
   "metadata": {},
   "outputs": [],
   "source": [
    "with open(ontology_file) as f: ontology = json.load(f)"
   ]
  },
  {
   "cell_type": "code",
   "execution_count": 5,
   "metadata": {},
   "outputs": [],
   "source": [
    "with open(schema_file) as f: schema = json.load(f)"
   ]
  },
  {
   "cell_type": "code",
   "execution_count": 14,
   "metadata": {},
   "outputs": [],
   "source": [
    "qnode2name = {} "
   ]
  },
  {
   "cell_type": "code",
   "execution_count": 15,
   "metadata": {},
   "outputs": [],
   "source": [
    "ontology_qnodes =  set()\n",
    "for e in ontology['events']:\n",
    "    ontology_qnodes.add(e['wd_node'])\n",
    "    qnode2name[e['wd_node']] = e['name'] \n"
   ]
  },
  {
   "cell_type": "code",
   "execution_count": 16,
   "metadata": {},
   "outputs": [
    {
     "data": {
      "text/plain": [
       "17"
      ]
     },
     "execution_count": 16,
     "metadata": {},
     "output_type": "execute_result"
    }
   ],
   "source": [
    "len(qnode2name) "
   ]
  },
  {
   "cell_type": "code",
   "execution_count": 21,
   "metadata": {},
   "outputs": [
    {
     "data": {
      "text/plain": [
       "17"
      ]
     },
     "execution_count": 21,
     "metadata": {},
     "output_type": "execute_result"
    }
   ],
   "source": [
    "len(ontology_qnodes)"
   ]
  },
  {
   "cell_type": "code",
   "execution_count": 23,
   "metadata": {},
   "outputs": [
    {
     "data": {
      "text/plain": [
       "{'',\n",
       " 'Q11024',\n",
       " 'Q11398090',\n",
       " 'Q1145523',\n",
       " 'Q12887029',\n",
       " 'Q1527264',\n",
       " 'Q20888800',\n",
       " 'Q327000',\n",
       " 'Q3380760',\n",
       " 'Q3875186',\n",
       " 'Q452440',\n",
       " 'Q50384157',\n",
       " 'Q656365',\n",
       " 'Q685744',\n",
       " 'Q8434',\n",
       " 'Q891854',\n",
       " 'Q900406'}"
      ]
     },
     "execution_count": 23,
     "metadata": {},
     "output_type": "execute_result"
    }
   ],
   "source": [
    "ontology_qnodes"
   ]
  },
  {
   "cell_type": "code",
   "execution_count": 24,
   "metadata": {},
   "outputs": [],
   "source": [
    "schema_qnodes = set() \n",
    "for e in schema['events']:\n",
    "    if 'qnode' in e:\n",
    "        qnode = e['qnode']\n",
    "        if e['qnode'].startswith('wd:'):\n",
    "            qnode = e['qnode'].split(':')[1]\n",
    "        qnode2name[qnode] = e['name']\n",
    "        schema_qnodes.add(qnode)\n",
    "\n",
    "\n",
    "# for qnode in schema_qnodes:\n",
    "#     print(f\"{qnode2name[qnode]} Qnode {qnode}\")\n"
   ]
  },
  {
   "cell_type": "code",
   "execution_count": 25,
   "metadata": {},
   "outputs": [
    {
     "data": {
      "text/plain": [
       "51"
      ]
     },
     "execution_count": 25,
     "metadata": {},
     "output_type": "execute_result"
    }
   ],
   "source": [
    "len(schema_qnodes)"
   ]
  },
  {
   "cell_type": "code",
   "execution_count": 26,
   "metadata": {},
   "outputs": [],
   "source": [
    "diff_qnodes = schema_qnodes - ontology_qnodes "
   ]
  },
  {
   "cell_type": "code",
   "execution_count": 27,
   "metadata": {},
   "outputs": [
    {
     "data": {
      "text/plain": [
       "50"
      ]
     },
     "execution_count": 27,
     "metadata": {},
     "output_type": "execute_result"
    }
   ],
   "source": [
    "len(diff_qnodes)"
   ]
  },
  {
   "cell_type": "code",
   "execution_count": 29,
   "metadata": {},
   "outputs": [
    {
     "name": "stdout",
     "output_type": "stream",
     "text": [
      "Fundraising Qnode Q1161355\n",
      "ExitBankruptcy Qnode Q12769393\n",
      "Propose Acquisition Qnode Q3604747\n",
      "Propose Merger Qnode Q1363768\n",
      "IPO Qnode Q185142\n",
      "ChargeIndict Qnode Q19357312\n",
      "Detain Qnode Q1403016\n",
      "Release Parole Qnode Q5357120\n",
      "founding Qnode Q3075355\n",
      "Corporate Criminal Response Qnode Q13370881\n",
      "Handcuffing Qnode Q15808\n",
      "Justice Qnode Q5167661\n",
      "Corporate Criminal Inquiry Qnode Q1964968\n",
      "exchange_of_goods Qnode Q21651837\n",
      "Privatize Qnode Q1589009\n",
      "Investigation Qnode Q21004260\n",
      "Corruption Qnode Q366\n",
      "Sentence Qnode Q1763090\n",
      "Reorganization Qnode Q2503234\n",
      "Initiate Judicial Process Qnode Q17310301\n",
      "Trial Qnode Q8016240\n",
      "Acquit Qnode Q1454723\n",
      "Inspect Qnode Q1137655\n",
      "divestment Qnode Q1200733\n",
      "Transfer Money Qnode Q21130860\n",
      "Identifycategorize Qnode Q912550\n",
      "AskRegulators Qnode Q428148\n",
      "PrivateFunding Qnode Q58900637\n",
      "Fine Qnode Q1243001\n",
      "breakup Qnode Q326498\n",
      "Convict Qnode Q5166547\n",
      "PoliticalCorruption Qnode Q10858400\n",
      "Shareholder Response Qnode Q1920566\n",
      "bankruptcy Qnode Q152074\n",
      "Shutdown Qnode Q4128962\n",
      "rejection Qnode Q98398200\n",
      "Ask Shareholders Qnode Q381136\n",
      "Interrogation Qnode Q327018\n",
      "Restrain Qnode Q357003\n",
      "Create Partnership Qnode Q3366101\n",
      "dismissal Qnode Q17052147\n",
      "Scandal Qnode Q192909\n",
      "agreement Qnode Q321839\n",
      "PersonnelChange Qnode Q105764136\n",
      "GovernmentActions Qnode Q2478386\n",
      "Antitrust Investigation Qnode Q61221204\n",
      "Executive Bonus Qnode Q107196812\n",
      "Government Bailout Qnode Q44312\n",
      "Management Change Qnode Q116348\n",
      "assign Qnode Q21014657\n"
     ]
    }
   ],
   "source": [
    "for qnode in diff_qnodes:\n",
    "    print(f\"{qnode2name[qnode]} Qnode {qnode}\")\n"
   ]
  },
  {
   "cell_type": "code",
   "execution_count": 31,
   "metadata": {},
   "outputs": [],
   "source": [
    "# look up these qnodes in the xpo ontology \n",
    "xpo_file = 'constant/xpo_v4.json'\n",
    "with open(xpo_file) as f: xpo= json.load(f)"
   ]
  },
  {
   "cell_type": "code",
   "execution_count": 32,
   "metadata": {},
   "outputs": [
    {
     "data": {
      "text/plain": [
       "4713"
      ]
     },
     "execution_count": 32,
     "metadata": {},
     "output_type": "execute_result"
    }
   ],
   "source": [
    "len(xpo['events']) "
   ]
  },
  {
   "cell_type": "code",
   "execution_count": null,
   "metadata": {},
   "outputs": [],
   "source": []
  }
 ],
 "metadata": {
  "interpreter": {
   "hash": "70462d11a0e6f29dfe30733845b82b4f2a4f4d7030d08e3b929a52e27c4e6f99"
  },
  "kernelspec": {
   "display_name": "Python 3.9.7 ('schema')",
   "language": "python",
   "name": "python3"
  },
  "language_info": {
   "codemirror_mode": {
    "name": "ipython",
    "version": 3
   },
   "file_extension": ".py",
   "mimetype": "text/x-python",
   "name": "python",
   "nbconvert_exporter": "python",
   "pygments_lexer": "ipython3",
   "version": "3.9.7"
  },
  "orig_nbformat": 4
 },
 "nbformat": 4,
 "nbformat_minor": 2
}
